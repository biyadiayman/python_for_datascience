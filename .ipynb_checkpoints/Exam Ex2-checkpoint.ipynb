{
 "cells": [
  {
   "cell_type": "markdown",
   "metadata": {},
   "source": [
    "# Exam \n",
    "## Exercice 2"
   ]
  },
  {
   "cell_type": "code",
   "execution_count": 1,
   "metadata": {},
   "outputs": [],
   "source": [
    "import pandas as pd\n",
    "import numpy as np\n",
    "import myhelpers.preprocessing as prepro\n",
    "import myhelpers.visualisation as viz"
   ]
  },
  {
   "cell_type": "code",
   "execution_count": 2,
   "metadata": {},
   "outputs": [],
   "source": [
    "df_visits = pd.read_csv(\"visits.csv\")\n",
    "df_vehicles = pd.read_csv(\"vehicles.csv\")"
   ]
  },
  {
   "cell_type": "code",
   "execution_count": 3,
   "metadata": {},
   "outputs": [
    {
     "data": {
      "text/html": [
       "<div>\n",
       "<style scoped>\n",
       "    .dataframe tbody tr th:only-of-type {\n",
       "        vertical-align: middle;\n",
       "    }\n",
       "\n",
       "    .dataframe tbody tr th {\n",
       "        vertical-align: top;\n",
       "    }\n",
       "\n",
       "    .dataframe thead th {\n",
       "        text-align: right;\n",
       "    }\n",
       "</style>\n",
       "<table border=\"1\" class=\"dataframe\">\n",
       "  <thead>\n",
       "    <tr style=\"text-align: right;\">\n",
       "      <th></th>\n",
       "      <th>id_veh</th>\n",
       "      <th>date</th>\n",
       "      <th>country</th>\n",
       "      <th>brand</th>\n",
       "      <th>dealer_id</th>\n",
       "      <th>mileage_km</th>\n",
       "      <th>client_amount</th>\n",
       "    </tr>\n",
       "  </thead>\n",
       "  <tbody>\n",
       "    <tr>\n",
       "      <th>0</th>\n",
       "      <td>74cafe94426a7c6ec045df5221f2be62</td>\n",
       "      <td>2019-03-05</td>\n",
       "      <td>FR</td>\n",
       "      <td>PEUGEOT</td>\n",
       "      <td>79aa5331b115415d12fead30d19004ab</td>\n",
       "      <td>41460.0</td>\n",
       "      <td>125.53</td>\n",
       "    </tr>\n",
       "    <tr>\n",
       "      <th>1</th>\n",
       "      <td>84e38dbe5929b7282921293bf8e43e14</td>\n",
       "      <td>2018-04-10</td>\n",
       "      <td>FR</td>\n",
       "      <td>PEUGEOT</td>\n",
       "      <td>84e59a56e610f5febbd26fdfa83ea96d</td>\n",
       "      <td>13372.0</td>\n",
       "      <td>0.00</td>\n",
       "    </tr>\n",
       "    <tr>\n",
       "      <th>2</th>\n",
       "      <td>18b782a6633885368542a3532f45201a</td>\n",
       "      <td>2017-10-18</td>\n",
       "      <td>FR</td>\n",
       "      <td>PEUGEOT</td>\n",
       "      <td>9c84f3117d821977a8570f9f6c335fc5</td>\n",
       "      <td>12601.0</td>\n",
       "      <td>0.00</td>\n",
       "    </tr>\n",
       "    <tr>\n",
       "      <th>3</th>\n",
       "      <td>d03fbb36360fa44aea10f8bb558e2150</td>\n",
       "      <td>2018-10-18</td>\n",
       "      <td>FR</td>\n",
       "      <td>PEUGEOT</td>\n",
       "      <td>050ad488d73415f8f74f255d9cd48ef9</td>\n",
       "      <td>26887.0</td>\n",
       "      <td>0.00</td>\n",
       "    </tr>\n",
       "    <tr>\n",
       "      <th>4</th>\n",
       "      <td>52c19bb214abdcf2fa86c9d163fc9adc</td>\n",
       "      <td>2017-10-24</td>\n",
       "      <td>FR</td>\n",
       "      <td>PEUGEOT</td>\n",
       "      <td>21354d33d13f120a44d7a839c79ffc95</td>\n",
       "      <td>10684.0</td>\n",
       "      <td>0.00</td>\n",
       "    </tr>\n",
       "  </tbody>\n",
       "</table>\n",
       "</div>"
      ],
      "text/plain": [
       "                             id_veh        date country    brand  \\\n",
       "0  74cafe94426a7c6ec045df5221f2be62  2019-03-05      FR  PEUGEOT   \n",
       "1  84e38dbe5929b7282921293bf8e43e14  2018-04-10      FR  PEUGEOT   \n",
       "2  18b782a6633885368542a3532f45201a  2017-10-18      FR  PEUGEOT   \n",
       "3  d03fbb36360fa44aea10f8bb558e2150  2018-10-18      FR  PEUGEOT   \n",
       "4  52c19bb214abdcf2fa86c9d163fc9adc  2017-10-24      FR  PEUGEOT   \n",
       "\n",
       "                          dealer_id  mileage_km  client_amount  \n",
       "0  79aa5331b115415d12fead30d19004ab     41460.0         125.53  \n",
       "1  84e59a56e610f5febbd26fdfa83ea96d     13372.0           0.00  \n",
       "2  9c84f3117d821977a8570f9f6c335fc5     12601.0           0.00  \n",
       "3  050ad488d73415f8f74f255d9cd48ef9     26887.0           0.00  \n",
       "4  21354d33d13f120a44d7a839c79ffc95     10684.0           0.00  "
      ]
     },
     "execution_count": 3,
     "metadata": {},
     "output_type": "execute_result"
    }
   ],
   "source": [
    "df_visits.head()"
   ]
  },
  {
   "cell_type": "code",
   "execution_count": 4,
   "metadata": {},
   "outputs": [
    {
     "data": {
      "text/html": [
       "<div>\n",
       "<style scoped>\n",
       "    .dataframe tbody tr th:only-of-type {\n",
       "        vertical-align: middle;\n",
       "    }\n",
       "\n",
       "    .dataframe tbody tr th {\n",
       "        vertical-align: top;\n",
       "    }\n",
       "\n",
       "    .dataframe thead th {\n",
       "        text-align: right;\n",
       "    }\n",
       "</style>\n",
       "<table border=\"1\" class=\"dataframe\">\n",
       "  <thead>\n",
       "    <tr style=\"text-align: right;\">\n",
       "      <th></th>\n",
       "      <th>id_veh</th>\n",
       "      <th>brand</th>\n",
       "      <th>model</th>\n",
       "      <th>segment</th>\n",
       "      <th>registration_date</th>\n",
       "    </tr>\n",
       "  </thead>\n",
       "  <tbody>\n",
       "    <tr>\n",
       "      <th>0</th>\n",
       "      <td>1cb0d81b6752d3589bf1e316e70d3716</td>\n",
       "      <td>PEUGEOT</td>\n",
       "      <td>308</td>\n",
       "      <td>C</td>\n",
       "      <td>2017-03-24 00:00:00</td>\n",
       "    </tr>\n",
       "    <tr>\n",
       "      <th>1</th>\n",
       "      <td>22007b293588cf266de0626eb84bb374</td>\n",
       "      <td>PEUGEOT</td>\n",
       "      <td>308</td>\n",
       "      <td>C</td>\n",
       "      <td>2017-11-14 00:00:00</td>\n",
       "    </tr>\n",
       "    <tr>\n",
       "      <th>2</th>\n",
       "      <td>a2f5f4a15024227d2b519296c1c38a13</td>\n",
       "      <td>PEUGEOT</td>\n",
       "      <td>208</td>\n",
       "      <td>B</td>\n",
       "      <td>2018-06-01 00:00:00</td>\n",
       "    </tr>\n",
       "    <tr>\n",
       "      <th>3</th>\n",
       "      <td>bcf528ff2dc2676f200827c22c3c4607</td>\n",
       "      <td>PEUGEOT</td>\n",
       "      <td>308</td>\n",
       "      <td>C</td>\n",
       "      <td>2017-12-01 00:00:00</td>\n",
       "    </tr>\n",
       "    <tr>\n",
       "      <th>4</th>\n",
       "      <td>a875f521d7fad145fccf433804f4af8f</td>\n",
       "      <td>PEUGEOT</td>\n",
       "      <td>2008</td>\n",
       "      <td>B</td>\n",
       "      <td>2016-03-22 00:00:00</td>\n",
       "    </tr>\n",
       "  </tbody>\n",
       "</table>\n",
       "</div>"
      ],
      "text/plain": [
       "                             id_veh    brand model segment  \\\n",
       "0  1cb0d81b6752d3589bf1e316e70d3716  PEUGEOT   308       C   \n",
       "1  22007b293588cf266de0626eb84bb374  PEUGEOT   308       C   \n",
       "2  a2f5f4a15024227d2b519296c1c38a13  PEUGEOT   208       B   \n",
       "3  bcf528ff2dc2676f200827c22c3c4607  PEUGEOT   308       C   \n",
       "4  a875f521d7fad145fccf433804f4af8f  PEUGEOT  2008       B   \n",
       "\n",
       "     registration_date  \n",
       "0  2017-03-24 00:00:00  \n",
       "1  2017-11-14 00:00:00  \n",
       "2  2018-06-01 00:00:00  \n",
       "3  2017-12-01 00:00:00  \n",
       "4  2016-03-22 00:00:00  "
      ]
     },
     "execution_count": 4,
     "metadata": {},
     "output_type": "execute_result"
    }
   ],
   "source": [
    "df_vehicles.head()"
   ]
  },
  {
   "cell_type": "code",
   "execution_count": 5,
   "metadata": {},
   "outputs": [],
   "source": [
    "#data = pd.merge(df_visits.drop('brand', axis=1), df_vehicles, left_on='id_veh', right_on='id_veh', how='left')"
   ]
  },
  {
   "cell_type": "markdown",
   "metadata": {},
   "source": [
    "Combien de véhicules sont présents dans les deux datasets ? Combien de véhicules\n",
    "distincts ?"
   ]
  },
  {
   "cell_type": "code",
   "execution_count": 12,
   "metadata": {},
   "outputs": [
    {
     "data": {
      "text/plain": [
       "184067"
      ]
     },
     "execution_count": 12,
     "metadata": {},
     "output_type": "execute_result"
    }
   ],
   "source": [
    "df_vehicles['id_veh'].nunique()"
   ]
  },
  {
   "cell_type": "code",
   "execution_count": 10,
   "metadata": {},
   "outputs": [
    {
     "data": {
      "text/plain": [
       "182178"
      ]
     },
     "execution_count": 10,
     "metadata": {},
     "output_type": "execute_result"
    }
   ],
   "source": [
    "df_visits['id_veh'].nunique()"
   ]
  },
  {
   "cell_type": "code",
   "execution_count": 64,
   "metadata": {},
   "outputs": [
    {
     "data": {
      "text/plain": [
       "184067"
      ]
     },
     "execution_count": 64,
     "metadata": {},
     "output_type": "execute_result"
    }
   ],
   "source": [
    "n_veh = max(df_vehicles['id_veh'].nunique(), df_visits['id_veh'].nunique())\n",
    "n_veh"
   ]
  },
  {
   "cell_type": "markdown",
   "metadata": {},
   "source": [
    " Combien de véhicules ont été mis en circulation chaque année ?"
   ]
  },
  {
   "cell_type": "code",
   "execution_count": 24,
   "metadata": {},
   "outputs": [],
   "source": [
    "df_vehicles['year'] = df_vehicles['registration_date'].apply(lambda x: x.split('-')[0])"
   ]
  },
  {
   "cell_type": "code",
   "execution_count": 26,
   "metadata": {},
   "outputs": [
    {
     "data": {
      "text/html": [
       "<div>\n",
       "<style scoped>\n",
       "    .dataframe tbody tr th:only-of-type {\n",
       "        vertical-align: middle;\n",
       "    }\n",
       "\n",
       "    .dataframe tbody tr th {\n",
       "        vertical-align: top;\n",
       "    }\n",
       "\n",
       "    .dataframe thead th {\n",
       "        text-align: right;\n",
       "    }\n",
       "</style>\n",
       "<table border=\"1\" class=\"dataframe\">\n",
       "  <thead>\n",
       "    <tr style=\"text-align: right;\">\n",
       "      <th></th>\n",
       "      <th>id_veh</th>\n",
       "    </tr>\n",
       "    <tr>\n",
       "      <th>year</th>\n",
       "      <th></th>\n",
       "    </tr>\n",
       "  </thead>\n",
       "  <tbody>\n",
       "    <tr>\n",
       "      <th>2015</th>\n",
       "      <td>27788</td>\n",
       "    </tr>\n",
       "    <tr>\n",
       "      <th>2016</th>\n",
       "      <td>55166</td>\n",
       "    </tr>\n",
       "    <tr>\n",
       "      <th>2017</th>\n",
       "      <td>53397</td>\n",
       "    </tr>\n",
       "    <tr>\n",
       "      <th>2018</th>\n",
       "      <td>38049</td>\n",
       "    </tr>\n",
       "    <tr>\n",
       "      <th>2019</th>\n",
       "      <td>9669</td>\n",
       "    </tr>\n",
       "  </tbody>\n",
       "</table>\n",
       "</div>"
      ],
      "text/plain": [
       "      id_veh\n",
       "year        \n",
       "2015   27788\n",
       "2016   55166\n",
       "2017   53397\n",
       "2018   38049\n",
       "2019    9669"
      ]
     },
     "execution_count": 26,
     "metadata": {},
     "output_type": "execute_result"
    }
   ],
   "source": [
    "df_vehicles.groupby('year').nunique()[['id_veh']]"
   ]
  },
  {
   "cell_type": "markdown",
   "metadata": {},
   "source": [
    " Combien de marques di\u001bérentes de véhicules contiennent les deux datasets ?"
   ]
  },
  {
   "cell_type": "code",
   "execution_count": 32,
   "metadata": {},
   "outputs": [
    {
     "data": {
      "text/plain": [
       "3"
      ]
     },
     "execution_count": 32,
     "metadata": {},
     "output_type": "execute_result"
    }
   ],
   "source": [
    "df_vehicles['brand'].nunique()"
   ]
  },
  {
   "cell_type": "code",
   "execution_count": 30,
   "metadata": {},
   "outputs": [
    {
     "data": {
      "text/plain": [
       "3"
      ]
     },
     "execution_count": 30,
     "metadata": {},
     "output_type": "execute_result"
    }
   ],
   "source": [
    "df_visits['brand'].nunique()"
   ]
  },
  {
   "cell_type": "code",
   "execution_count": 33,
   "metadata": {},
   "outputs": [
    {
     "data": {
      "text/plain": [
       "array(['PEUGEOT', 'CITROEN', 'DS'], dtype=object)"
      ]
     },
     "execution_count": 33,
     "metadata": {},
     "output_type": "execute_result"
    }
   ],
   "source": [
    "df_visits['brand'].unique()"
   ]
  },
  {
   "cell_type": "markdown",
   "metadata": {},
   "source": [
    "Top 5 id_veh ayant e\u001bectué le plus de visites"
   ]
  },
  {
   "cell_type": "code",
   "execution_count": 50,
   "metadata": {},
   "outputs": [
    {
     "data": {
      "text/html": [
       "<div>\n",
       "<style scoped>\n",
       "    .dataframe tbody tr th:only-of-type {\n",
       "        vertical-align: middle;\n",
       "    }\n",
       "\n",
       "    .dataframe tbody tr th {\n",
       "        vertical-align: top;\n",
       "    }\n",
       "\n",
       "    .dataframe thead th {\n",
       "        text-align: right;\n",
       "    }\n",
       "</style>\n",
       "<table border=\"1\" class=\"dataframe\">\n",
       "  <thead>\n",
       "    <tr style=\"text-align: right;\">\n",
       "      <th></th>\n",
       "      <th>date</th>\n",
       "      <th>country</th>\n",
       "      <th>brand</th>\n",
       "      <th>dealer_id</th>\n",
       "      <th>mileage_km</th>\n",
       "      <th>client_amount</th>\n",
       "    </tr>\n",
       "    <tr>\n",
       "      <th>id_veh</th>\n",
       "      <th></th>\n",
       "      <th></th>\n",
       "      <th></th>\n",
       "      <th></th>\n",
       "      <th></th>\n",
       "      <th></th>\n",
       "    </tr>\n",
       "  </thead>\n",
       "  <tbody>\n",
       "    <tr>\n",
       "      <th>60854a8b74b0f914c57fb59ab74bca08</th>\n",
       "      <td>96</td>\n",
       "      <td>96</td>\n",
       "      <td>96</td>\n",
       "      <td>96</td>\n",
       "      <td>96</td>\n",
       "      <td>96</td>\n",
       "    </tr>\n",
       "    <tr>\n",
       "      <th>3dd91066c952b3e8753fd9bf8aa52df3</th>\n",
       "      <td>96</td>\n",
       "      <td>96</td>\n",
       "      <td>96</td>\n",
       "      <td>96</td>\n",
       "      <td>93</td>\n",
       "      <td>96</td>\n",
       "    </tr>\n",
       "    <tr>\n",
       "      <th>7c6dbe1c42b4467c13fdb69d7f19870c</th>\n",
       "      <td>74</td>\n",
       "      <td>74</td>\n",
       "      <td>74</td>\n",
       "      <td>74</td>\n",
       "      <td>74</td>\n",
       "      <td>74</td>\n",
       "    </tr>\n",
       "    <tr>\n",
       "      <th>a4d9525abe19316d75625413278dcdd8</th>\n",
       "      <td>66</td>\n",
       "      <td>66</td>\n",
       "      <td>66</td>\n",
       "      <td>66</td>\n",
       "      <td>66</td>\n",
       "      <td>66</td>\n",
       "    </tr>\n",
       "    <tr>\n",
       "      <th>76ce03fdfe4eb0ef3829ff770076e66a</th>\n",
       "      <td>43</td>\n",
       "      <td>43</td>\n",
       "      <td>43</td>\n",
       "      <td>43</td>\n",
       "      <td>43</td>\n",
       "      <td>43</td>\n",
       "    </tr>\n",
       "  </tbody>\n",
       "</table>\n",
       "</div>"
      ],
      "text/plain": [
       "                                  date  country  brand  dealer_id  mileage_km  \\\n",
       "id_veh                                                                          \n",
       "60854a8b74b0f914c57fb59ab74bca08    96       96     96         96          96   \n",
       "3dd91066c952b3e8753fd9bf8aa52df3    96       96     96         96          93   \n",
       "7c6dbe1c42b4467c13fdb69d7f19870c    74       74     74         74          74   \n",
       "a4d9525abe19316d75625413278dcdd8    66       66     66         66          66   \n",
       "76ce03fdfe4eb0ef3829ff770076e66a    43       43     43         43          43   \n",
       "\n",
       "                                  client_amount  \n",
       "id_veh                                           \n",
       "60854a8b74b0f914c57fb59ab74bca08             96  \n",
       "3dd91066c952b3e8753fd9bf8aa52df3             96  \n",
       "7c6dbe1c42b4467c13fdb69d7f19870c             74  \n",
       "a4d9525abe19316d75625413278dcdd8             66  \n",
       "76ce03fdfe4eb0ef3829ff770076e66a             43  "
      ]
     },
     "execution_count": 50,
     "metadata": {},
     "output_type": "execute_result"
    }
   ],
   "source": [
    "df_visits.groupby('id_veh').count().sort_values(by='date',ascending=False).head()"
   ]
  },
  {
   "cell_type": "markdown",
   "metadata": {},
   "source": [
    "Top 5 dealer_id ayant reçu le plus de visites"
   ]
  },
  {
   "cell_type": "code",
   "execution_count": 51,
   "metadata": {},
   "outputs": [
    {
     "data": {
      "text/html": [
       "<div>\n",
       "<style scoped>\n",
       "    .dataframe tbody tr th:only-of-type {\n",
       "        vertical-align: middle;\n",
       "    }\n",
       "\n",
       "    .dataframe tbody tr th {\n",
       "        vertical-align: top;\n",
       "    }\n",
       "\n",
       "    .dataframe thead th {\n",
       "        text-align: right;\n",
       "    }\n",
       "</style>\n",
       "<table border=\"1\" class=\"dataframe\">\n",
       "  <thead>\n",
       "    <tr style=\"text-align: right;\">\n",
       "      <th></th>\n",
       "      <th>id_veh</th>\n",
       "      <th>date</th>\n",
       "      <th>country</th>\n",
       "      <th>brand</th>\n",
       "      <th>mileage_km</th>\n",
       "      <th>client_amount</th>\n",
       "    </tr>\n",
       "    <tr>\n",
       "      <th>dealer_id</th>\n",
       "      <th></th>\n",
       "      <th></th>\n",
       "      <th></th>\n",
       "      <th></th>\n",
       "      <th></th>\n",
       "      <th></th>\n",
       "    </tr>\n",
       "  </thead>\n",
       "  <tbody>\n",
       "    <tr>\n",
       "      <th>8002ff83402f7062af83c861f90d94da</th>\n",
       "      <td>15843</td>\n",
       "      <td>15843</td>\n",
       "      <td>15843</td>\n",
       "      <td>15843</td>\n",
       "      <td>15705</td>\n",
       "      <td>15843</td>\n",
       "    </tr>\n",
       "    <tr>\n",
       "      <th>401d8f5bdcb33b19de1a5b67f3af60f1</th>\n",
       "      <td>13660</td>\n",
       "      <td>13660</td>\n",
       "      <td>13660</td>\n",
       "      <td>13660</td>\n",
       "      <td>13347</td>\n",
       "      <td>13660</td>\n",
       "    </tr>\n",
       "    <tr>\n",
       "      <th>d4895cafaf18aecb1b57b3a527a2d10c</th>\n",
       "      <td>11688</td>\n",
       "      <td>11688</td>\n",
       "      <td>11688</td>\n",
       "      <td>11688</td>\n",
       "      <td>11688</td>\n",
       "      <td>11688</td>\n",
       "    </tr>\n",
       "    <tr>\n",
       "      <th>a8f718ad8d09eb14f37130d1ee598568</th>\n",
       "      <td>11606</td>\n",
       "      <td>11606</td>\n",
       "      <td>11606</td>\n",
       "      <td>11606</td>\n",
       "      <td>11606</td>\n",
       "      <td>11606</td>\n",
       "    </tr>\n",
       "    <tr>\n",
       "      <th>78184dc764ce1b59a0260a6a05c6e415</th>\n",
       "      <td>10467</td>\n",
       "      <td>10467</td>\n",
       "      <td>10467</td>\n",
       "      <td>10467</td>\n",
       "      <td>10467</td>\n",
       "      <td>10467</td>\n",
       "    </tr>\n",
       "  </tbody>\n",
       "</table>\n",
       "</div>"
      ],
      "text/plain": [
       "                                  id_veh   date  country  brand  mileage_km  \\\n",
       "dealer_id                                                                     \n",
       "8002ff83402f7062af83c861f90d94da   15843  15843    15843  15843       15705   \n",
       "401d8f5bdcb33b19de1a5b67f3af60f1   13660  13660    13660  13660       13347   \n",
       "d4895cafaf18aecb1b57b3a527a2d10c   11688  11688    11688  11688       11688   \n",
       "a8f718ad8d09eb14f37130d1ee598568   11606  11606    11606  11606       11606   \n",
       "78184dc764ce1b59a0260a6a05c6e415   10467  10467    10467  10467       10467   \n",
       "\n",
       "                                  client_amount  \n",
       "dealer_id                                        \n",
       "8002ff83402f7062af83c861f90d94da          15843  \n",
       "401d8f5bdcb33b19de1a5b67f3af60f1          13660  \n",
       "d4895cafaf18aecb1b57b3a527a2d10c          11688  \n",
       "a8f718ad8d09eb14f37130d1ee598568          11606  \n",
       "78184dc764ce1b59a0260a6a05c6e415          10467  "
      ]
     },
     "execution_count": 51,
     "metadata": {},
     "output_type": "execute_result"
    }
   ],
   "source": [
    "df_visits.groupby('dealer_id').count().sort_values(by='date',ascending=False).head()"
   ]
  },
  {
   "cell_type": "markdown",
   "metadata": {},
   "source": [
    "Quelle est la proportion de véhicules ayant e\u001bectué une visite lors des 18 derniers\n",
    "mois (entre le 01/03/2018 et le 01/09/2019) "
   ]
  },
  {
   "cell_type": "code",
   "execution_count": 56,
   "metadata": {},
   "outputs": [],
   "source": [
    "df_visits['date'] = pd.to_datetime(df_visits['date'])"
   ]
  },
  {
   "cell_type": "code",
   "execution_count": 58,
   "metadata": {},
   "outputs": [],
   "source": [
    "start_date = '01/03-2018'\n",
    "end_date = '01/09/2019'\n",
    "mask = (df_visits['date'] > start_date) & (df_visits['date'] <= end_date)"
   ]
  },
  {
   "cell_type": "code",
   "execution_count": 65,
   "metadata": {},
   "outputs": [
    {
     "data": {
      "text/plain": [
       "111587"
      ]
     },
     "execution_count": 65,
     "metadata": {},
     "output_type": "execute_result"
    }
   ],
   "source": [
    "visite_18 = df_visits.loc[mask]['id_veh'].nunique()\n",
    "visite_18"
   ]
  },
  {
   "cell_type": "code",
   "execution_count": 67,
   "metadata": {},
   "outputs": [
    {
     "data": {
      "text/plain": [
       "60.623034003922484"
      ]
     },
     "execution_count": 67,
     "metadata": {},
     "output_type": "execute_result"
    }
   ],
   "source": [
    "visite_18/n_veh*100"
   ]
  },
  {
   "cell_type": "markdown",
   "metadata": {},
   "source": [
    "Data preprocessing\n"
   ]
  },
  {
   "cell_type": "code",
   "execution_count": null,
   "metadata": {},
   "outputs": [],
   "source": []
  },
  {
   "cell_type": "code",
   "execution_count": null,
   "metadata": {},
   "outputs": [],
   "source": []
  },
  {
   "cell_type": "code",
   "execution_count": null,
   "metadata": {},
   "outputs": [],
   "source": []
  },
  {
   "cell_type": "code",
   "execution_count": null,
   "metadata": {},
   "outputs": [],
   "source": []
  },
  {
   "cell_type": "code",
   "execution_count": null,
   "metadata": {},
   "outputs": [],
   "source": []
  },
  {
   "cell_type": "code",
   "execution_count": null,
   "metadata": {},
   "outputs": [],
   "source": []
  },
  {
   "cell_type": "code",
   "execution_count": null,
   "metadata": {},
   "outputs": [],
   "source": []
  },
  {
   "cell_type": "code",
   "execution_count": null,
   "metadata": {},
   "outputs": [],
   "source": []
  },
  {
   "cell_type": "markdown",
   "metadata": {},
   "source": [
    "Feature engineering"
   ]
  },
  {
   "cell_type": "code",
   "execution_count": null,
   "metadata": {},
   "outputs": [],
   "source": []
  },
  {
   "cell_type": "code",
   "execution_count": null,
   "metadata": {},
   "outputs": [],
   "source": []
  },
  {
   "cell_type": "code",
   "execution_count": null,
   "metadata": {},
   "outputs": [],
   "source": []
  },
  {
   "cell_type": "code",
   "execution_count": null,
   "metadata": {},
   "outputs": [],
   "source": []
  },
  {
   "cell_type": "code",
   "execution_count": null,
   "metadata": {},
   "outputs": [],
   "source": []
  },
  {
   "cell_type": "code",
   "execution_count": null,
   "metadata": {},
   "outputs": [],
   "source": []
  },
  {
   "cell_type": "code",
   "execution_count": null,
   "metadata": {},
   "outputs": [],
   "source": []
  },
  {
   "cell_type": "code",
   "execution_count": null,
   "metadata": {},
   "outputs": [],
   "source": []
  },
  {
   "cell_type": "code",
   "execution_count": null,
   "metadata": {},
   "outputs": [],
   "source": []
  },
  {
   "cell_type": "code",
   "execution_count": null,
   "metadata": {},
   "outputs": [],
   "source": []
  },
  {
   "cell_type": "code",
   "execution_count": null,
   "metadata": {},
   "outputs": [],
   "source": []
  }
 ],
 "metadata": {
  "kernelspec": {
   "display_name": "Python 3",
   "language": "python",
   "name": "python3"
  },
  "language_info": {
   "codemirror_mode": {
    "name": "ipython",
    "version": 3
   },
   "file_extension": ".py",
   "mimetype": "text/x-python",
   "name": "python",
   "nbconvert_exporter": "python",
   "pygments_lexer": "ipython3",
   "version": "3.6.1"
  }
 },
 "nbformat": 4,
 "nbformat_minor": 2
}
