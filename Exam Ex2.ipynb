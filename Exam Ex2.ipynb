{
 "cells": [
  {
   "cell_type": "markdown",
   "metadata": {},
   "source": [
    "# Exam \n",
    "## Exercice 2"
   ]
  },
  {
   "cell_type": "code",
   "execution_count": 103,
   "metadata": {},
   "outputs": [],
   "source": [
    "import pandas as pd\n",
    "import numpy as np\n",
    "import myhelpers.preprocessing as prepro\n",
    "import myhelpers.visualisation as viz"
   ]
  },
  {
   "cell_type": "code",
   "execution_count": 104,
   "metadata": {},
   "outputs": [],
   "source": [
    "df_visits = pd.read_csv(\"visits.csv\")\n",
    "df_vehicles = pd.read_csv(\"vehicles.csv\")"
   ]
  },
  {
   "cell_type": "code",
   "execution_count": 105,
   "metadata": {},
   "outputs": [
    {
     "data": {
      "text/html": [
       "<div>\n",
       "<style scoped>\n",
       "    .dataframe tbody tr th:only-of-type {\n",
       "        vertical-align: middle;\n",
       "    }\n",
       "\n",
       "    .dataframe tbody tr th {\n",
       "        vertical-align: top;\n",
       "    }\n",
       "\n",
       "    .dataframe thead th {\n",
       "        text-align: right;\n",
       "    }\n",
       "</style>\n",
       "<table border=\"1\" class=\"dataframe\">\n",
       "  <thead>\n",
       "    <tr style=\"text-align: right;\">\n",
       "      <th></th>\n",
       "      <th>id_veh</th>\n",
       "      <th>date</th>\n",
       "      <th>country</th>\n",
       "      <th>brand</th>\n",
       "      <th>dealer_id</th>\n",
       "      <th>mileage_km</th>\n",
       "      <th>client_amount</th>\n",
       "    </tr>\n",
       "  </thead>\n",
       "  <tbody>\n",
       "    <tr>\n",
       "      <th>0</th>\n",
       "      <td>74cafe94426a7c6ec045df5221f2be62</td>\n",
       "      <td>2019-03-05</td>\n",
       "      <td>FR</td>\n",
       "      <td>PEUGEOT</td>\n",
       "      <td>79aa5331b115415d12fead30d19004ab</td>\n",
       "      <td>41460.0</td>\n",
       "      <td>125.53</td>\n",
       "    </tr>\n",
       "    <tr>\n",
       "      <th>1</th>\n",
       "      <td>84e38dbe5929b7282921293bf8e43e14</td>\n",
       "      <td>2018-04-10</td>\n",
       "      <td>FR</td>\n",
       "      <td>PEUGEOT</td>\n",
       "      <td>84e59a56e610f5febbd26fdfa83ea96d</td>\n",
       "      <td>13372.0</td>\n",
       "      <td>0.00</td>\n",
       "    </tr>\n",
       "    <tr>\n",
       "      <th>2</th>\n",
       "      <td>18b782a6633885368542a3532f45201a</td>\n",
       "      <td>2017-10-18</td>\n",
       "      <td>FR</td>\n",
       "      <td>PEUGEOT</td>\n",
       "      <td>9c84f3117d821977a8570f9f6c335fc5</td>\n",
       "      <td>12601.0</td>\n",
       "      <td>0.00</td>\n",
       "    </tr>\n",
       "    <tr>\n",
       "      <th>3</th>\n",
       "      <td>d03fbb36360fa44aea10f8bb558e2150</td>\n",
       "      <td>2018-10-18</td>\n",
       "      <td>FR</td>\n",
       "      <td>PEUGEOT</td>\n",
       "      <td>050ad488d73415f8f74f255d9cd48ef9</td>\n",
       "      <td>26887.0</td>\n",
       "      <td>0.00</td>\n",
       "    </tr>\n",
       "    <tr>\n",
       "      <th>4</th>\n",
       "      <td>52c19bb214abdcf2fa86c9d163fc9adc</td>\n",
       "      <td>2017-10-24</td>\n",
       "      <td>FR</td>\n",
       "      <td>PEUGEOT</td>\n",
       "      <td>21354d33d13f120a44d7a839c79ffc95</td>\n",
       "      <td>10684.0</td>\n",
       "      <td>0.00</td>\n",
       "    </tr>\n",
       "  </tbody>\n",
       "</table>\n",
       "</div>"
      ],
      "text/plain": [
       "                             id_veh        date country    brand  \\\n",
       "0  74cafe94426a7c6ec045df5221f2be62  2019-03-05      FR  PEUGEOT   \n",
       "1  84e38dbe5929b7282921293bf8e43e14  2018-04-10      FR  PEUGEOT   \n",
       "2  18b782a6633885368542a3532f45201a  2017-10-18      FR  PEUGEOT   \n",
       "3  d03fbb36360fa44aea10f8bb558e2150  2018-10-18      FR  PEUGEOT   \n",
       "4  52c19bb214abdcf2fa86c9d163fc9adc  2017-10-24      FR  PEUGEOT   \n",
       "\n",
       "                          dealer_id  mileage_km  client_amount  \n",
       "0  79aa5331b115415d12fead30d19004ab     41460.0         125.53  \n",
       "1  84e59a56e610f5febbd26fdfa83ea96d     13372.0           0.00  \n",
       "2  9c84f3117d821977a8570f9f6c335fc5     12601.0           0.00  \n",
       "3  050ad488d73415f8f74f255d9cd48ef9     26887.0           0.00  \n",
       "4  21354d33d13f120a44d7a839c79ffc95     10684.0           0.00  "
      ]
     },
     "execution_count": 105,
     "metadata": {},
     "output_type": "execute_result"
    }
   ],
   "source": [
    "df_visits.head()"
   ]
  },
  {
   "cell_type": "code",
   "execution_count": 106,
   "metadata": {},
   "outputs": [
    {
     "data": {
      "text/html": [
       "<div>\n",
       "<style scoped>\n",
       "    .dataframe tbody tr th:only-of-type {\n",
       "        vertical-align: middle;\n",
       "    }\n",
       "\n",
       "    .dataframe tbody tr th {\n",
       "        vertical-align: top;\n",
       "    }\n",
       "\n",
       "    .dataframe thead th {\n",
       "        text-align: right;\n",
       "    }\n",
       "</style>\n",
       "<table border=\"1\" class=\"dataframe\">\n",
       "  <thead>\n",
       "    <tr style=\"text-align: right;\">\n",
       "      <th></th>\n",
       "      <th>id_veh</th>\n",
       "      <th>brand</th>\n",
       "      <th>model</th>\n",
       "      <th>segment</th>\n",
       "      <th>registration_date</th>\n",
       "    </tr>\n",
       "  </thead>\n",
       "  <tbody>\n",
       "    <tr>\n",
       "      <th>0</th>\n",
       "      <td>1cb0d81b6752d3589bf1e316e70d3716</td>\n",
       "      <td>PEUGEOT</td>\n",
       "      <td>308</td>\n",
       "      <td>C</td>\n",
       "      <td>2017-03-24 00:00:00</td>\n",
       "    </tr>\n",
       "    <tr>\n",
       "      <th>1</th>\n",
       "      <td>22007b293588cf266de0626eb84bb374</td>\n",
       "      <td>PEUGEOT</td>\n",
       "      <td>308</td>\n",
       "      <td>C</td>\n",
       "      <td>2017-11-14 00:00:00</td>\n",
       "    </tr>\n",
       "    <tr>\n",
       "      <th>2</th>\n",
       "      <td>a2f5f4a15024227d2b519296c1c38a13</td>\n",
       "      <td>PEUGEOT</td>\n",
       "      <td>208</td>\n",
       "      <td>B</td>\n",
       "      <td>2018-06-01 00:00:00</td>\n",
       "    </tr>\n",
       "    <tr>\n",
       "      <th>3</th>\n",
       "      <td>bcf528ff2dc2676f200827c22c3c4607</td>\n",
       "      <td>PEUGEOT</td>\n",
       "      <td>308</td>\n",
       "      <td>C</td>\n",
       "      <td>2017-12-01 00:00:00</td>\n",
       "    </tr>\n",
       "    <tr>\n",
       "      <th>4</th>\n",
       "      <td>a875f521d7fad145fccf433804f4af8f</td>\n",
       "      <td>PEUGEOT</td>\n",
       "      <td>2008</td>\n",
       "      <td>B</td>\n",
       "      <td>2016-03-22 00:00:00</td>\n",
       "    </tr>\n",
       "  </tbody>\n",
       "</table>\n",
       "</div>"
      ],
      "text/plain": [
       "                             id_veh    brand model segment  \\\n",
       "0  1cb0d81b6752d3589bf1e316e70d3716  PEUGEOT   308       C   \n",
       "1  22007b293588cf266de0626eb84bb374  PEUGEOT   308       C   \n",
       "2  a2f5f4a15024227d2b519296c1c38a13  PEUGEOT   208       B   \n",
       "3  bcf528ff2dc2676f200827c22c3c4607  PEUGEOT   308       C   \n",
       "4  a875f521d7fad145fccf433804f4af8f  PEUGEOT  2008       B   \n",
       "\n",
       "     registration_date  \n",
       "0  2017-03-24 00:00:00  \n",
       "1  2017-11-14 00:00:00  \n",
       "2  2018-06-01 00:00:00  \n",
       "3  2017-12-01 00:00:00  \n",
       "4  2016-03-22 00:00:00  "
      ]
     },
     "execution_count": 106,
     "metadata": {},
     "output_type": "execute_result"
    }
   ],
   "source": [
    "df_vehicles.head()"
   ]
  },
  {
   "cell_type": "code",
   "execution_count": 107,
   "metadata": {},
   "outputs": [],
   "source": [
    "#data = pd.merge(df_visits.drop('brand', axis=1), df_vehicles, left_on='id_veh', right_on='id_veh', how='left')"
   ]
  },
  {
   "cell_type": "markdown",
   "metadata": {},
   "source": [
    "Combien de véhicules sont présents dans les deux datasets ? Combien de véhicules\n",
    "distincts ?"
   ]
  },
  {
   "cell_type": "code",
   "execution_count": 108,
   "metadata": {},
   "outputs": [
    {
     "data": {
      "text/plain": [
       "184067"
      ]
     },
     "execution_count": 108,
     "metadata": {},
     "output_type": "execute_result"
    }
   ],
   "source": [
    "df_vehicles['id_veh'].nunique()"
   ]
  },
  {
   "cell_type": "code",
   "execution_count": 109,
   "metadata": {},
   "outputs": [
    {
     "data": {
      "text/plain": [
       "182178"
      ]
     },
     "execution_count": 109,
     "metadata": {},
     "output_type": "execute_result"
    }
   ],
   "source": [
    "df_visits['id_veh'].nunique()"
   ]
  },
  {
   "cell_type": "code",
   "execution_count": 110,
   "metadata": {},
   "outputs": [
    {
     "data": {
      "text/plain": [
       "184067"
      ]
     },
     "execution_count": 110,
     "metadata": {},
     "output_type": "execute_result"
    }
   ],
   "source": [
    "n_veh = max(df_vehicles['id_veh'].nunique(), df_visits['id_veh'].nunique())\n",
    "n_veh"
   ]
  },
  {
   "cell_type": "markdown",
   "metadata": {},
   "source": [
    " Combien de véhicules ont été mis en circulation chaque année ?"
   ]
  },
  {
   "cell_type": "code",
   "execution_count": 111,
   "metadata": {},
   "outputs": [],
   "source": [
    "df_vehicles['year'] = df_vehicles['registration_date'].apply(lambda x: x.split('-')[0])"
   ]
  },
  {
   "cell_type": "code",
   "execution_count": 112,
   "metadata": {},
   "outputs": [
    {
     "data": {
      "text/html": [
       "<div>\n",
       "<style scoped>\n",
       "    .dataframe tbody tr th:only-of-type {\n",
       "        vertical-align: middle;\n",
       "    }\n",
       "\n",
       "    .dataframe tbody tr th {\n",
       "        vertical-align: top;\n",
       "    }\n",
       "\n",
       "    .dataframe thead th {\n",
       "        text-align: right;\n",
       "    }\n",
       "</style>\n",
       "<table border=\"1\" class=\"dataframe\">\n",
       "  <thead>\n",
       "    <tr style=\"text-align: right;\">\n",
       "      <th></th>\n",
       "      <th>id_veh</th>\n",
       "    </tr>\n",
       "    <tr>\n",
       "      <th>year</th>\n",
       "      <th></th>\n",
       "    </tr>\n",
       "  </thead>\n",
       "  <tbody>\n",
       "    <tr>\n",
       "      <th>2015</th>\n",
       "      <td>27788</td>\n",
       "    </tr>\n",
       "    <tr>\n",
       "      <th>2016</th>\n",
       "      <td>55166</td>\n",
       "    </tr>\n",
       "    <tr>\n",
       "      <th>2017</th>\n",
       "      <td>53397</td>\n",
       "    </tr>\n",
       "    <tr>\n",
       "      <th>2018</th>\n",
       "      <td>38049</td>\n",
       "    </tr>\n",
       "    <tr>\n",
       "      <th>2019</th>\n",
       "      <td>9669</td>\n",
       "    </tr>\n",
       "  </tbody>\n",
       "</table>\n",
       "</div>"
      ],
      "text/plain": [
       "      id_veh\n",
       "year        \n",
       "2015   27788\n",
       "2016   55166\n",
       "2017   53397\n",
       "2018   38049\n",
       "2019    9669"
      ]
     },
     "execution_count": 112,
     "metadata": {},
     "output_type": "execute_result"
    }
   ],
   "source": [
    "df_vehicles.groupby('year').nunique()[['id_veh']]"
   ]
  },
  {
   "cell_type": "markdown",
   "metadata": {},
   "source": [
    " Combien de marques di\u001bérentes de véhicules contiennent les deux datasets ?"
   ]
  },
  {
   "cell_type": "code",
   "execution_count": 113,
   "metadata": {},
   "outputs": [
    {
     "data": {
      "text/plain": [
       "3"
      ]
     },
     "execution_count": 113,
     "metadata": {},
     "output_type": "execute_result"
    }
   ],
   "source": [
    "df_vehicles['brand'].nunique()"
   ]
  },
  {
   "cell_type": "code",
   "execution_count": 114,
   "metadata": {},
   "outputs": [
    {
     "data": {
      "text/plain": [
       "3"
      ]
     },
     "execution_count": 114,
     "metadata": {},
     "output_type": "execute_result"
    }
   ],
   "source": [
    "df_visits['brand'].nunique()"
   ]
  },
  {
   "cell_type": "code",
   "execution_count": 115,
   "metadata": {},
   "outputs": [
    {
     "data": {
      "text/plain": [
       "array(['PEUGEOT', 'CITROEN', 'DS'], dtype=object)"
      ]
     },
     "execution_count": 115,
     "metadata": {},
     "output_type": "execute_result"
    }
   ],
   "source": [
    "df_visits['brand'].unique()"
   ]
  },
  {
   "cell_type": "markdown",
   "metadata": {},
   "source": [
    "Top 5 id_veh ayant e\u001bectué le plus de visites"
   ]
  },
  {
   "cell_type": "code",
   "execution_count": 116,
   "metadata": {},
   "outputs": [
    {
     "data": {
      "text/html": [
       "<div>\n",
       "<style scoped>\n",
       "    .dataframe tbody tr th:only-of-type {\n",
       "        vertical-align: middle;\n",
       "    }\n",
       "\n",
       "    .dataframe tbody tr th {\n",
       "        vertical-align: top;\n",
       "    }\n",
       "\n",
       "    .dataframe thead th {\n",
       "        text-align: right;\n",
       "    }\n",
       "</style>\n",
       "<table border=\"1\" class=\"dataframe\">\n",
       "  <thead>\n",
       "    <tr style=\"text-align: right;\">\n",
       "      <th></th>\n",
       "      <th>date</th>\n",
       "      <th>country</th>\n",
       "      <th>brand</th>\n",
       "      <th>dealer_id</th>\n",
       "      <th>mileage_km</th>\n",
       "      <th>client_amount</th>\n",
       "    </tr>\n",
       "    <tr>\n",
       "      <th>id_veh</th>\n",
       "      <th></th>\n",
       "      <th></th>\n",
       "      <th></th>\n",
       "      <th></th>\n",
       "      <th></th>\n",
       "      <th></th>\n",
       "    </tr>\n",
       "  </thead>\n",
       "  <tbody>\n",
       "    <tr>\n",
       "      <th>60854a8b74b0f914c57fb59ab74bca08</th>\n",
       "      <td>96</td>\n",
       "      <td>96</td>\n",
       "      <td>96</td>\n",
       "      <td>96</td>\n",
       "      <td>96</td>\n",
       "      <td>96</td>\n",
       "    </tr>\n",
       "    <tr>\n",
       "      <th>3dd91066c952b3e8753fd9bf8aa52df3</th>\n",
       "      <td>96</td>\n",
       "      <td>96</td>\n",
       "      <td>96</td>\n",
       "      <td>96</td>\n",
       "      <td>93</td>\n",
       "      <td>96</td>\n",
       "    </tr>\n",
       "    <tr>\n",
       "      <th>7c6dbe1c42b4467c13fdb69d7f19870c</th>\n",
       "      <td>74</td>\n",
       "      <td>74</td>\n",
       "      <td>74</td>\n",
       "      <td>74</td>\n",
       "      <td>74</td>\n",
       "      <td>74</td>\n",
       "    </tr>\n",
       "    <tr>\n",
       "      <th>a4d9525abe19316d75625413278dcdd8</th>\n",
       "      <td>66</td>\n",
       "      <td>66</td>\n",
       "      <td>66</td>\n",
       "      <td>66</td>\n",
       "      <td>66</td>\n",
       "      <td>66</td>\n",
       "    </tr>\n",
       "    <tr>\n",
       "      <th>76ce03fdfe4eb0ef3829ff770076e66a</th>\n",
       "      <td>43</td>\n",
       "      <td>43</td>\n",
       "      <td>43</td>\n",
       "      <td>43</td>\n",
       "      <td>43</td>\n",
       "      <td>43</td>\n",
       "    </tr>\n",
       "  </tbody>\n",
       "</table>\n",
       "</div>"
      ],
      "text/plain": [
       "                                  date  country  brand  dealer_id  mileage_km  \\\n",
       "id_veh                                                                          \n",
       "60854a8b74b0f914c57fb59ab74bca08    96       96     96         96          96   \n",
       "3dd91066c952b3e8753fd9bf8aa52df3    96       96     96         96          93   \n",
       "7c6dbe1c42b4467c13fdb69d7f19870c    74       74     74         74          74   \n",
       "a4d9525abe19316d75625413278dcdd8    66       66     66         66          66   \n",
       "76ce03fdfe4eb0ef3829ff770076e66a    43       43     43         43          43   \n",
       "\n",
       "                                  client_amount  \n",
       "id_veh                                           \n",
       "60854a8b74b0f914c57fb59ab74bca08             96  \n",
       "3dd91066c952b3e8753fd9bf8aa52df3             96  \n",
       "7c6dbe1c42b4467c13fdb69d7f19870c             74  \n",
       "a4d9525abe19316d75625413278dcdd8             66  \n",
       "76ce03fdfe4eb0ef3829ff770076e66a             43  "
      ]
     },
     "execution_count": 116,
     "metadata": {},
     "output_type": "execute_result"
    }
   ],
   "source": [
    "df_visits.groupby('id_veh').count().sort_values(by='date',ascending=False).head()"
   ]
  },
  {
   "cell_type": "markdown",
   "metadata": {},
   "source": [
    "Top 5 dealer_id ayant reçu le plus de visites"
   ]
  },
  {
   "cell_type": "code",
   "execution_count": 117,
   "metadata": {},
   "outputs": [
    {
     "data": {
      "text/html": [
       "<div>\n",
       "<style scoped>\n",
       "    .dataframe tbody tr th:only-of-type {\n",
       "        vertical-align: middle;\n",
       "    }\n",
       "\n",
       "    .dataframe tbody tr th {\n",
       "        vertical-align: top;\n",
       "    }\n",
       "\n",
       "    .dataframe thead th {\n",
       "        text-align: right;\n",
       "    }\n",
       "</style>\n",
       "<table border=\"1\" class=\"dataframe\">\n",
       "  <thead>\n",
       "    <tr style=\"text-align: right;\">\n",
       "      <th></th>\n",
       "      <th>id_veh</th>\n",
       "      <th>date</th>\n",
       "      <th>country</th>\n",
       "      <th>brand</th>\n",
       "      <th>mileage_km</th>\n",
       "      <th>client_amount</th>\n",
       "    </tr>\n",
       "    <tr>\n",
       "      <th>dealer_id</th>\n",
       "      <th></th>\n",
       "      <th></th>\n",
       "      <th></th>\n",
       "      <th></th>\n",
       "      <th></th>\n",
       "      <th></th>\n",
       "    </tr>\n",
       "  </thead>\n",
       "  <tbody>\n",
       "    <tr>\n",
       "      <th>8002ff83402f7062af83c861f90d94da</th>\n",
       "      <td>15843</td>\n",
       "      <td>15843</td>\n",
       "      <td>15843</td>\n",
       "      <td>15843</td>\n",
       "      <td>15705</td>\n",
       "      <td>15843</td>\n",
       "    </tr>\n",
       "    <tr>\n",
       "      <th>401d8f5bdcb33b19de1a5b67f3af60f1</th>\n",
       "      <td>13660</td>\n",
       "      <td>13660</td>\n",
       "      <td>13660</td>\n",
       "      <td>13660</td>\n",
       "      <td>13347</td>\n",
       "      <td>13660</td>\n",
       "    </tr>\n",
       "    <tr>\n",
       "      <th>d4895cafaf18aecb1b57b3a527a2d10c</th>\n",
       "      <td>11688</td>\n",
       "      <td>11688</td>\n",
       "      <td>11688</td>\n",
       "      <td>11688</td>\n",
       "      <td>11688</td>\n",
       "      <td>11688</td>\n",
       "    </tr>\n",
       "    <tr>\n",
       "      <th>a8f718ad8d09eb14f37130d1ee598568</th>\n",
       "      <td>11606</td>\n",
       "      <td>11606</td>\n",
       "      <td>11606</td>\n",
       "      <td>11606</td>\n",
       "      <td>11606</td>\n",
       "      <td>11606</td>\n",
       "    </tr>\n",
       "    <tr>\n",
       "      <th>78184dc764ce1b59a0260a6a05c6e415</th>\n",
       "      <td>10467</td>\n",
       "      <td>10467</td>\n",
       "      <td>10467</td>\n",
       "      <td>10467</td>\n",
       "      <td>10467</td>\n",
       "      <td>10467</td>\n",
       "    </tr>\n",
       "  </tbody>\n",
       "</table>\n",
       "</div>"
      ],
      "text/plain": [
       "                                  id_veh   date  country  brand  mileage_km  \\\n",
       "dealer_id                                                                     \n",
       "8002ff83402f7062af83c861f90d94da   15843  15843    15843  15843       15705   \n",
       "401d8f5bdcb33b19de1a5b67f3af60f1   13660  13660    13660  13660       13347   \n",
       "d4895cafaf18aecb1b57b3a527a2d10c   11688  11688    11688  11688       11688   \n",
       "a8f718ad8d09eb14f37130d1ee598568   11606  11606    11606  11606       11606   \n",
       "78184dc764ce1b59a0260a6a05c6e415   10467  10467    10467  10467       10467   \n",
       "\n",
       "                                  client_amount  \n",
       "dealer_id                                        \n",
       "8002ff83402f7062af83c861f90d94da          15843  \n",
       "401d8f5bdcb33b19de1a5b67f3af60f1          13660  \n",
       "d4895cafaf18aecb1b57b3a527a2d10c          11688  \n",
       "a8f718ad8d09eb14f37130d1ee598568          11606  \n",
       "78184dc764ce1b59a0260a6a05c6e415          10467  "
      ]
     },
     "execution_count": 117,
     "metadata": {},
     "output_type": "execute_result"
    }
   ],
   "source": [
    "df_visits.groupby('dealer_id').count().sort_values(by='date',ascending=False).head()"
   ]
  },
  {
   "cell_type": "markdown",
   "metadata": {},
   "source": [
    "Quelle est la proportion de véhicules ayant e\u001bectué une visite lors des 18 derniers\n",
    "mois (entre le 01/03/2018 et le 01/09/2019) "
   ]
  },
  {
   "cell_type": "code",
   "execution_count": 118,
   "metadata": {},
   "outputs": [],
   "source": [
    "df_visits['date'] = pd.to_datetime(df_visits['date'])"
   ]
  },
  {
   "cell_type": "code",
   "execution_count": 119,
   "metadata": {},
   "outputs": [],
   "source": [
    "start_date = '01/03-2018'\n",
    "end_date = '01/09/2019'\n",
    "mask = (df_visits['date'] > start_date) & (df_visits['date'] <= end_date)"
   ]
  },
  {
   "cell_type": "code",
   "execution_count": 120,
   "metadata": {},
   "outputs": [
    {
     "data": {
      "text/plain": [
       "111587"
      ]
     },
     "execution_count": 120,
     "metadata": {},
     "output_type": "execute_result"
    }
   ],
   "source": [
    "visite_18 = df_visits.loc[mask]['id_veh'].nunique()\n",
    "visite_18"
   ]
  },
  {
   "cell_type": "code",
   "execution_count": 121,
   "metadata": {},
   "outputs": [
    {
     "data": {
      "text/plain": [
       "60.623034003922484"
      ]
     },
     "execution_count": 121,
     "metadata": {},
     "output_type": "execute_result"
    }
   ],
   "source": [
    "visite_18/n_veh*100"
   ]
  },
  {
   "cell_type": "markdown",
   "metadata": {},
   "source": [
    "Data preprocessing\n"
   ]
  },
  {
   "cell_type": "code",
   "execution_count": 122,
   "metadata": {},
   "outputs": [],
   "source": [
    "data = pd.merge(df_visits.drop('brand', axis=1), df_vehicles, left_on='id_veh', right_on='id_veh', how='left')"
   ]
  },
  {
   "cell_type": "code",
   "execution_count": 123,
   "metadata": {},
   "outputs": [
    {
     "data": {
      "text/html": [
       "<div>\n",
       "<style scoped>\n",
       "    .dataframe tbody tr th:only-of-type {\n",
       "        vertical-align: middle;\n",
       "    }\n",
       "\n",
       "    .dataframe tbody tr th {\n",
       "        vertical-align: top;\n",
       "    }\n",
       "\n",
       "    .dataframe thead th {\n",
       "        text-align: right;\n",
       "    }\n",
       "</style>\n",
       "<table border=\"1\" class=\"dataframe\">\n",
       "  <thead>\n",
       "    <tr style=\"text-align: right;\">\n",
       "      <th></th>\n",
       "      <th>id_veh</th>\n",
       "      <th>date</th>\n",
       "      <th>country</th>\n",
       "      <th>dealer_id</th>\n",
       "      <th>mileage_km</th>\n",
       "      <th>client_amount</th>\n",
       "      <th>brand</th>\n",
       "      <th>model</th>\n",
       "      <th>segment</th>\n",
       "      <th>registration_date</th>\n",
       "      <th>year</th>\n",
       "    </tr>\n",
       "  </thead>\n",
       "  <tbody>\n",
       "    <tr>\n",
       "      <th>0</th>\n",
       "      <td>74cafe94426a7c6ec045df5221f2be62</td>\n",
       "      <td>2019-03-05</td>\n",
       "      <td>FR</td>\n",
       "      <td>79aa5331b115415d12fead30d19004ab</td>\n",
       "      <td>41460.0</td>\n",
       "      <td>125.53</td>\n",
       "      <td>PEUGEOT</td>\n",
       "      <td>308</td>\n",
       "      <td>C</td>\n",
       "      <td>2016-01-21 00:00:00</td>\n",
       "      <td>2016</td>\n",
       "    </tr>\n",
       "    <tr>\n",
       "      <th>1</th>\n",
       "      <td>84e38dbe5929b7282921293bf8e43e14</td>\n",
       "      <td>2018-04-10</td>\n",
       "      <td>FR</td>\n",
       "      <td>84e59a56e610f5febbd26fdfa83ea96d</td>\n",
       "      <td>13372.0</td>\n",
       "      <td>0.00</td>\n",
       "      <td>PEUGEOT</td>\n",
       "      <td>5008</td>\n",
       "      <td>C</td>\n",
       "      <td>2017-06-19 00:00:00</td>\n",
       "      <td>2017</td>\n",
       "    </tr>\n",
       "    <tr>\n",
       "      <th>2</th>\n",
       "      <td>18b782a6633885368542a3532f45201a</td>\n",
       "      <td>2017-10-18</td>\n",
       "      <td>FR</td>\n",
       "      <td>9c84f3117d821977a8570f9f6c335fc5</td>\n",
       "      <td>12601.0</td>\n",
       "      <td>0.00</td>\n",
       "      <td>PEUGEOT</td>\n",
       "      <td>208</td>\n",
       "      <td>B</td>\n",
       "      <td>2016-05-02 00:00:00</td>\n",
       "      <td>2016</td>\n",
       "    </tr>\n",
       "    <tr>\n",
       "      <th>3</th>\n",
       "      <td>d03fbb36360fa44aea10f8bb558e2150</td>\n",
       "      <td>2018-10-18</td>\n",
       "      <td>FR</td>\n",
       "      <td>050ad488d73415f8f74f255d9cd48ef9</td>\n",
       "      <td>26887.0</td>\n",
       "      <td>0.00</td>\n",
       "      <td>PEUGEOT</td>\n",
       "      <td>2008</td>\n",
       "      <td>B</td>\n",
       "      <td>2016-02-22 00:00:00</td>\n",
       "      <td>2016</td>\n",
       "    </tr>\n",
       "    <tr>\n",
       "      <th>4</th>\n",
       "      <td>52c19bb214abdcf2fa86c9d163fc9adc</td>\n",
       "      <td>2017-10-24</td>\n",
       "      <td>FR</td>\n",
       "      <td>21354d33d13f120a44d7a839c79ffc95</td>\n",
       "      <td>10684.0</td>\n",
       "      <td>0.00</td>\n",
       "      <td>PEUGEOT</td>\n",
       "      <td>2008</td>\n",
       "      <td>B</td>\n",
       "      <td>2016-12-16 00:00:00</td>\n",
       "      <td>2016</td>\n",
       "    </tr>\n",
       "  </tbody>\n",
       "</table>\n",
       "</div>"
      ],
      "text/plain": [
       "                             id_veh       date country  \\\n",
       "0  74cafe94426a7c6ec045df5221f2be62 2019-03-05      FR   \n",
       "1  84e38dbe5929b7282921293bf8e43e14 2018-04-10      FR   \n",
       "2  18b782a6633885368542a3532f45201a 2017-10-18      FR   \n",
       "3  d03fbb36360fa44aea10f8bb558e2150 2018-10-18      FR   \n",
       "4  52c19bb214abdcf2fa86c9d163fc9adc 2017-10-24      FR   \n",
       "\n",
       "                          dealer_id  mileage_km  client_amount    brand model  \\\n",
       "0  79aa5331b115415d12fead30d19004ab     41460.0         125.53  PEUGEOT   308   \n",
       "1  84e59a56e610f5febbd26fdfa83ea96d     13372.0           0.00  PEUGEOT  5008   \n",
       "2  9c84f3117d821977a8570f9f6c335fc5     12601.0           0.00  PEUGEOT   208   \n",
       "3  050ad488d73415f8f74f255d9cd48ef9     26887.0           0.00  PEUGEOT  2008   \n",
       "4  21354d33d13f120a44d7a839c79ffc95     10684.0           0.00  PEUGEOT  2008   \n",
       "\n",
       "  segment    registration_date  year  \n",
       "0       C  2016-01-21 00:00:00  2016  \n",
       "1       C  2017-06-19 00:00:00  2017  \n",
       "2       B  2016-05-02 00:00:00  2016  \n",
       "3       B  2016-02-22 00:00:00  2016  \n",
       "4       B  2016-12-16 00:00:00  2016  "
      ]
     },
     "execution_count": 123,
     "metadata": {},
     "output_type": "execute_result"
    }
   ],
   "source": [
    "data.head()"
   ]
  },
  {
   "cell_type": "code",
   "execution_count": 124,
   "metadata": {},
   "outputs": [],
   "source": [
    "data['registration_date'] = pd.to_datetime(data['registration_date'])"
   ]
  },
  {
   "cell_type": "code",
   "execution_count": 125,
   "metadata": {},
   "outputs": [
    {
     "name": "stdout",
     "output_type": "stream",
     "text": [
      "<class 'pandas.core.frame.DataFrame'>\n",
      "Int64Index: 548606 entries, 0 to 548605\n",
      "Data columns (total 11 columns):\n",
      "id_veh               548606 non-null object\n",
      "date                 548606 non-null datetime64[ns]\n",
      "country              548606 non-null object\n",
      "dealer_id            548606 non-null object\n",
      "mileage_km           543698 non-null float64\n",
      "client_amount        548606 non-null float64\n",
      "brand                533937 non-null object\n",
      "model                533823 non-null object\n",
      "segment              531740 non-null object\n",
      "registration_date    533937 non-null datetime64[ns]\n",
      "year                 533937 non-null object\n",
      "dtypes: datetime64[ns](2), float64(2), object(7)\n",
      "memory usage: 35.6+ MB\n"
     ]
    }
   ],
   "source": [
    "data.info()"
   ]
  },
  {
   "cell_type": "code",
   "execution_count": 126,
   "metadata": {},
   "outputs": [
    {
     "data": {
      "text/html": [
       "<div>\n",
       "<style scoped>\n",
       "    .dataframe tbody tr th:only-of-type {\n",
       "        vertical-align: middle;\n",
       "    }\n",
       "\n",
       "    .dataframe tbody tr th {\n",
       "        vertical-align: top;\n",
       "    }\n",
       "\n",
       "    .dataframe thead th {\n",
       "        text-align: right;\n",
       "    }\n",
       "</style>\n",
       "<table border=\"1\" class=\"dataframe\">\n",
       "  <thead>\n",
       "    <tr style=\"text-align: right;\">\n",
       "      <th></th>\n",
       "      <th>mileage_km</th>\n",
       "      <th>client_amount</th>\n",
       "    </tr>\n",
       "  </thead>\n",
       "  <tbody>\n",
       "    <tr>\n",
       "      <th>count</th>\n",
       "      <td>5.436980e+05</td>\n",
       "      <td>548606.000000</td>\n",
       "    </tr>\n",
       "    <tr>\n",
       "      <th>mean</th>\n",
       "      <td>7.659559e+04</td>\n",
       "      <td>73.506493</td>\n",
       "    </tr>\n",
       "    <tr>\n",
       "      <th>std</th>\n",
       "      <td>2.120807e+07</td>\n",
       "      <td>192.564559</td>\n",
       "    </tr>\n",
       "    <tr>\n",
       "      <th>min</th>\n",
       "      <td>0.000000e+00</td>\n",
       "      <td>-9055.682000</td>\n",
       "    </tr>\n",
       "    <tr>\n",
       "      <th>25%</th>\n",
       "      <td>7.287000e+03</td>\n",
       "      <td>0.000000</td>\n",
       "    </tr>\n",
       "    <tr>\n",
       "      <th>50%</th>\n",
       "      <td>1.818400e+04</td>\n",
       "      <td>26.338000</td>\n",
       "    </tr>\n",
       "    <tr>\n",
       "      <th>75%</th>\n",
       "      <td>3.476800e+04</td>\n",
       "      <td>110.405000</td>\n",
       "    </tr>\n",
       "    <tr>\n",
       "      <th>max</th>\n",
       "      <td>9.999667e+09</td>\n",
       "      <td>9760.762000</td>\n",
       "    </tr>\n",
       "  </tbody>\n",
       "</table>\n",
       "</div>"
      ],
      "text/plain": [
       "         mileage_km  client_amount\n",
       "count  5.436980e+05  548606.000000\n",
       "mean   7.659559e+04      73.506493\n",
       "std    2.120807e+07     192.564559\n",
       "min    0.000000e+00   -9055.682000\n",
       "25%    7.287000e+03       0.000000\n",
       "50%    1.818400e+04      26.338000\n",
       "75%    3.476800e+04     110.405000\n",
       "max    9.999667e+09    9760.762000"
      ]
     },
     "execution_count": 126,
     "metadata": {},
     "output_type": "execute_result"
    }
   ],
   "source": [
    "data.describe()"
   ]
  },
  {
   "cell_type": "code",
   "execution_count": 127,
   "metadata": {},
   "outputs": [
    {
     "data": {
      "text/plain": [
       "id_veh                   0\n",
       "date                     0\n",
       "country                  0\n",
       "dealer_id                0\n",
       "mileage_km            4908\n",
       "client_amount            0\n",
       "brand                14669\n",
       "model                14783\n",
       "segment              16866\n",
       "registration_date    14669\n",
       "year                 14669\n",
       "dtype: int64"
      ]
     },
     "execution_count": 127,
     "metadata": {},
     "output_type": "execute_result"
    }
   ],
   "source": [
    "data.isnull().sum()"
   ]
  },
  {
   "cell_type": "code",
   "execution_count": 128,
   "metadata": {},
   "outputs": [],
   "source": [
    "data = prepro.input_missing_values(data)"
   ]
  },
  {
   "cell_type": "code",
   "execution_count": 129,
   "metadata": {},
   "outputs": [],
   "source": [
    "data.mileage_km = data['mileage_km'].fillna(value= data.mileage_km.median())"
   ]
  },
  {
   "cell_type": "code",
   "execution_count": 130,
   "metadata": {},
   "outputs": [
    {
     "data": {
      "text/plain": [
       "id_veh               0\n",
       "date                 0\n",
       "country              0\n",
       "dealer_id            0\n",
       "mileage_km           0\n",
       "client_amount        0\n",
       "brand                0\n",
       "model                0\n",
       "segment              0\n",
       "registration_date    0\n",
       "year                 0\n",
       "dtype: int64"
      ]
     },
     "execution_count": 130,
     "metadata": {},
     "output_type": "execute_result"
    }
   ],
   "source": [
    "data.isnull().sum()"
   ]
  },
  {
   "cell_type": "markdown",
   "metadata": {},
   "source": [
    "Feature engineering"
   ]
  },
  {
   "cell_type": "code",
   "execution_count": 131,
   "metadata": {},
   "outputs": [],
   "source": [
    "today = pd.to_datetime(\"today\")"
   ]
  },
  {
   "cell_type": "code",
   "execution_count": 132,
   "metadata": {},
   "outputs": [],
   "source": [
    "data['age_veh'] = data.year.apply(lambda x: today.year - int(x))"
   ]
  },
  {
   "cell_type": "code",
   "execution_count": 133,
   "metadata": {},
   "outputs": [
    {
     "data": {
      "text/html": [
       "<div>\n",
       "<style scoped>\n",
       "    .dataframe tbody tr th:only-of-type {\n",
       "        vertical-align: middle;\n",
       "    }\n",
       "\n",
       "    .dataframe tbody tr th {\n",
       "        vertical-align: top;\n",
       "    }\n",
       "\n",
       "    .dataframe thead th {\n",
       "        text-align: right;\n",
       "    }\n",
       "</style>\n",
       "<table border=\"1\" class=\"dataframe\">\n",
       "  <thead>\n",
       "    <tr style=\"text-align: right;\">\n",
       "      <th></th>\n",
       "      <th>id_veh</th>\n",
       "      <th>date</th>\n",
       "      <th>country</th>\n",
       "      <th>dealer_id</th>\n",
       "      <th>mileage_km</th>\n",
       "      <th>client_amount</th>\n",
       "      <th>brand</th>\n",
       "      <th>model</th>\n",
       "      <th>segment</th>\n",
       "      <th>registration_date</th>\n",
       "      <th>year</th>\n",
       "      <th>age_veh</th>\n",
       "    </tr>\n",
       "  </thead>\n",
       "  <tbody>\n",
       "    <tr>\n",
       "      <th>0</th>\n",
       "      <td>74cafe94426a7c6ec045df5221f2be62</td>\n",
       "      <td>2019-03-05</td>\n",
       "      <td>FR</td>\n",
       "      <td>79aa5331b115415d12fead30d19004ab</td>\n",
       "      <td>41460.0</td>\n",
       "      <td>125.53</td>\n",
       "      <td>PEUGEOT</td>\n",
       "      <td>308</td>\n",
       "      <td>C</td>\n",
       "      <td>2016-01-21</td>\n",
       "      <td>2016</td>\n",
       "      <td>4</td>\n",
       "    </tr>\n",
       "    <tr>\n",
       "      <th>1</th>\n",
       "      <td>84e38dbe5929b7282921293bf8e43e14</td>\n",
       "      <td>2018-04-10</td>\n",
       "      <td>FR</td>\n",
       "      <td>84e59a56e610f5febbd26fdfa83ea96d</td>\n",
       "      <td>13372.0</td>\n",
       "      <td>0.00</td>\n",
       "      <td>PEUGEOT</td>\n",
       "      <td>5008</td>\n",
       "      <td>C</td>\n",
       "      <td>2017-06-19</td>\n",
       "      <td>2017</td>\n",
       "      <td>3</td>\n",
       "    </tr>\n",
       "    <tr>\n",
       "      <th>2</th>\n",
       "      <td>18b782a6633885368542a3532f45201a</td>\n",
       "      <td>2017-10-18</td>\n",
       "      <td>FR</td>\n",
       "      <td>9c84f3117d821977a8570f9f6c335fc5</td>\n",
       "      <td>12601.0</td>\n",
       "      <td>0.00</td>\n",
       "      <td>PEUGEOT</td>\n",
       "      <td>208</td>\n",
       "      <td>B</td>\n",
       "      <td>2016-05-02</td>\n",
       "      <td>2016</td>\n",
       "      <td>4</td>\n",
       "    </tr>\n",
       "    <tr>\n",
       "      <th>3</th>\n",
       "      <td>d03fbb36360fa44aea10f8bb558e2150</td>\n",
       "      <td>2018-10-18</td>\n",
       "      <td>FR</td>\n",
       "      <td>050ad488d73415f8f74f255d9cd48ef9</td>\n",
       "      <td>26887.0</td>\n",
       "      <td>0.00</td>\n",
       "      <td>PEUGEOT</td>\n",
       "      <td>2008</td>\n",
       "      <td>B</td>\n",
       "      <td>2016-02-22</td>\n",
       "      <td>2016</td>\n",
       "      <td>4</td>\n",
       "    </tr>\n",
       "    <tr>\n",
       "      <th>4</th>\n",
       "      <td>52c19bb214abdcf2fa86c9d163fc9adc</td>\n",
       "      <td>2017-10-24</td>\n",
       "      <td>FR</td>\n",
       "      <td>21354d33d13f120a44d7a839c79ffc95</td>\n",
       "      <td>10684.0</td>\n",
       "      <td>0.00</td>\n",
       "      <td>PEUGEOT</td>\n",
       "      <td>2008</td>\n",
       "      <td>B</td>\n",
       "      <td>2016-12-16</td>\n",
       "      <td>2016</td>\n",
       "      <td>4</td>\n",
       "    </tr>\n",
       "  </tbody>\n",
       "</table>\n",
       "</div>"
      ],
      "text/plain": [
       "                             id_veh       date country  \\\n",
       "0  74cafe94426a7c6ec045df5221f2be62 2019-03-05      FR   \n",
       "1  84e38dbe5929b7282921293bf8e43e14 2018-04-10      FR   \n",
       "2  18b782a6633885368542a3532f45201a 2017-10-18      FR   \n",
       "3  d03fbb36360fa44aea10f8bb558e2150 2018-10-18      FR   \n",
       "4  52c19bb214abdcf2fa86c9d163fc9adc 2017-10-24      FR   \n",
       "\n",
       "                          dealer_id  mileage_km  client_amount    brand model  \\\n",
       "0  79aa5331b115415d12fead30d19004ab     41460.0         125.53  PEUGEOT   308   \n",
       "1  84e59a56e610f5febbd26fdfa83ea96d     13372.0           0.00  PEUGEOT  5008   \n",
       "2  9c84f3117d821977a8570f9f6c335fc5     12601.0           0.00  PEUGEOT   208   \n",
       "3  050ad488d73415f8f74f255d9cd48ef9     26887.0           0.00  PEUGEOT  2008   \n",
       "4  21354d33d13f120a44d7a839c79ffc95     10684.0           0.00  PEUGEOT  2008   \n",
       "\n",
       "  segment registration_date  year  age_veh  \n",
       "0       C        2016-01-21  2016        4  \n",
       "1       C        2017-06-19  2017        3  \n",
       "2       B        2016-05-02  2016        4  \n",
       "3       B        2016-02-22  2016        4  \n",
       "4       B        2016-12-16  2016        4  "
      ]
     },
     "execution_count": 133,
     "metadata": {},
     "output_type": "execute_result"
    }
   ],
   "source": [
    "data.head()"
   ]
  },
  {
   "cell_type": "markdown",
   "metadata": {},
   "source": [
    "Construction de la target"
   ]
  },
  {
   "cell_type": "code",
   "execution_count": 134,
   "metadata": {},
   "outputs": [
    {
     "data": {
      "text/plain": [
       "'01/03-2018'"
      ]
     },
     "execution_count": 134,
     "metadata": {},
     "output_type": "execute_result"
    }
   ],
   "source": [
    "start_date"
   ]
  },
  {
   "cell_type": "code",
   "execution_count": 135,
   "metadata": {},
   "outputs": [
    {
     "data": {
      "text/plain": [
       "'01/09/2019'"
      ]
     },
     "execution_count": 135,
     "metadata": {},
     "output_type": "execute_result"
    }
   ],
   "source": [
    "end_date"
   ]
  },
  {
   "cell_type": "code",
   "execution_count": 157,
   "metadata": {},
   "outputs": [],
   "source": [
    "target = (~((data['date'] > start_date) & (data['date'] <= end_date))).astype(int)"
   ]
  },
  {
   "cell_type": "code",
   "execution_count": 158,
   "metadata": {},
   "outputs": [],
   "source": [
    "X = data.copy()"
   ]
  },
  {
   "cell_type": "code",
   "execution_count": 159,
   "metadata": {},
   "outputs": [],
   "source": []
  },
  {
   "cell_type": "code",
   "execution_count": 160,
   "metadata": {},
   "outputs": [],
   "source": []
  },
  {
   "cell_type": "code",
   "execution_count": 161,
   "metadata": {},
   "outputs": [],
   "source": []
  },
  {
   "cell_type": "code",
   "execution_count": 162,
   "metadata": {},
   "outputs": [
    {
     "data": {
      "text/html": [
       "<div>\n",
       "<style scoped>\n",
       "    .dataframe tbody tr th:only-of-type {\n",
       "        vertical-align: middle;\n",
       "    }\n",
       "\n",
       "    .dataframe tbody tr th {\n",
       "        vertical-align: top;\n",
       "    }\n",
       "\n",
       "    .dataframe thead th {\n",
       "        text-align: right;\n",
       "    }\n",
       "</style>\n",
       "<table border=\"1\" class=\"dataframe\">\n",
       "  <thead>\n",
       "    <tr style=\"text-align: right;\">\n",
       "      <th></th>\n",
       "      <th>id_veh</th>\n",
       "      <th>date</th>\n",
       "      <th>dealer_id</th>\n",
       "      <th>mileage_km</th>\n",
       "      <th>client_amount</th>\n",
       "      <th>model</th>\n",
       "      <th>registration_date</th>\n",
       "      <th>year</th>\n",
       "      <th>age_veh</th>\n",
       "      <th>segment_A</th>\n",
       "      <th>...</th>\n",
       "      <th>segment_C</th>\n",
       "      <th>segment_C-TRANSPORT</th>\n",
       "      <th>segment_D</th>\n",
       "      <th>segment_D-TRANSPORT</th>\n",
       "      <th>segment_E-TRANSPORT</th>\n",
       "      <th>brand_CITROEN</th>\n",
       "      <th>brand_DS</th>\n",
       "      <th>brand_PEUGEOT</th>\n",
       "      <th>country_ES</th>\n",
       "      <th>country_FR</th>\n",
       "    </tr>\n",
       "  </thead>\n",
       "  <tbody>\n",
       "    <tr>\n",
       "      <th>0</th>\n",
       "      <td>74cafe94426a7c6ec045df5221f2be62</td>\n",
       "      <td>2019-03-05</td>\n",
       "      <td>79aa5331b115415d12fead30d19004ab</td>\n",
       "      <td>41460.0</td>\n",
       "      <td>125.53</td>\n",
       "      <td>308</td>\n",
       "      <td>2016-01-21</td>\n",
       "      <td>2016</td>\n",
       "      <td>4</td>\n",
       "      <td>0</td>\n",
       "      <td>...</td>\n",
       "      <td>1</td>\n",
       "      <td>0</td>\n",
       "      <td>0</td>\n",
       "      <td>0</td>\n",
       "      <td>0</td>\n",
       "      <td>0</td>\n",
       "      <td>0</td>\n",
       "      <td>1</td>\n",
       "      <td>0</td>\n",
       "      <td>1</td>\n",
       "    </tr>\n",
       "    <tr>\n",
       "      <th>1</th>\n",
       "      <td>84e38dbe5929b7282921293bf8e43e14</td>\n",
       "      <td>2018-04-10</td>\n",
       "      <td>84e59a56e610f5febbd26fdfa83ea96d</td>\n",
       "      <td>13372.0</td>\n",
       "      <td>0.00</td>\n",
       "      <td>5008</td>\n",
       "      <td>2017-06-19</td>\n",
       "      <td>2017</td>\n",
       "      <td>3</td>\n",
       "      <td>0</td>\n",
       "      <td>...</td>\n",
       "      <td>1</td>\n",
       "      <td>0</td>\n",
       "      <td>0</td>\n",
       "      <td>0</td>\n",
       "      <td>0</td>\n",
       "      <td>0</td>\n",
       "      <td>0</td>\n",
       "      <td>1</td>\n",
       "      <td>0</td>\n",
       "      <td>1</td>\n",
       "    </tr>\n",
       "    <tr>\n",
       "      <th>2</th>\n",
       "      <td>18b782a6633885368542a3532f45201a</td>\n",
       "      <td>2017-10-18</td>\n",
       "      <td>9c84f3117d821977a8570f9f6c335fc5</td>\n",
       "      <td>12601.0</td>\n",
       "      <td>0.00</td>\n",
       "      <td>208</td>\n",
       "      <td>2016-05-02</td>\n",
       "      <td>2016</td>\n",
       "      <td>4</td>\n",
       "      <td>0</td>\n",
       "      <td>...</td>\n",
       "      <td>0</td>\n",
       "      <td>0</td>\n",
       "      <td>0</td>\n",
       "      <td>0</td>\n",
       "      <td>0</td>\n",
       "      <td>0</td>\n",
       "      <td>0</td>\n",
       "      <td>1</td>\n",
       "      <td>0</td>\n",
       "      <td>1</td>\n",
       "    </tr>\n",
       "    <tr>\n",
       "      <th>3</th>\n",
       "      <td>d03fbb36360fa44aea10f8bb558e2150</td>\n",
       "      <td>2018-10-18</td>\n",
       "      <td>050ad488d73415f8f74f255d9cd48ef9</td>\n",
       "      <td>26887.0</td>\n",
       "      <td>0.00</td>\n",
       "      <td>2008</td>\n",
       "      <td>2016-02-22</td>\n",
       "      <td>2016</td>\n",
       "      <td>4</td>\n",
       "      <td>0</td>\n",
       "      <td>...</td>\n",
       "      <td>0</td>\n",
       "      <td>0</td>\n",
       "      <td>0</td>\n",
       "      <td>0</td>\n",
       "      <td>0</td>\n",
       "      <td>0</td>\n",
       "      <td>0</td>\n",
       "      <td>1</td>\n",
       "      <td>0</td>\n",
       "      <td>1</td>\n",
       "    </tr>\n",
       "    <tr>\n",
       "      <th>4</th>\n",
       "      <td>52c19bb214abdcf2fa86c9d163fc9adc</td>\n",
       "      <td>2017-10-24</td>\n",
       "      <td>21354d33d13f120a44d7a839c79ffc95</td>\n",
       "      <td>10684.0</td>\n",
       "      <td>0.00</td>\n",
       "      <td>2008</td>\n",
       "      <td>2016-12-16</td>\n",
       "      <td>2016</td>\n",
       "      <td>4</td>\n",
       "      <td>0</td>\n",
       "      <td>...</td>\n",
       "      <td>0</td>\n",
       "      <td>0</td>\n",
       "      <td>0</td>\n",
       "      <td>0</td>\n",
       "      <td>0</td>\n",
       "      <td>0</td>\n",
       "      <td>0</td>\n",
       "      <td>1</td>\n",
       "      <td>0</td>\n",
       "      <td>1</td>\n",
       "    </tr>\n",
       "  </tbody>\n",
       "</table>\n",
       "<p>5 rows × 21 columns</p>\n",
       "</div>"
      ],
      "text/plain": [
       "                             id_veh       date  \\\n",
       "0  74cafe94426a7c6ec045df5221f2be62 2019-03-05   \n",
       "1  84e38dbe5929b7282921293bf8e43e14 2018-04-10   \n",
       "2  18b782a6633885368542a3532f45201a 2017-10-18   \n",
       "3  d03fbb36360fa44aea10f8bb558e2150 2018-10-18   \n",
       "4  52c19bb214abdcf2fa86c9d163fc9adc 2017-10-24   \n",
       "\n",
       "                          dealer_id  mileage_km  client_amount model  \\\n",
       "0  79aa5331b115415d12fead30d19004ab     41460.0         125.53   308   \n",
       "1  84e59a56e610f5febbd26fdfa83ea96d     13372.0           0.00  5008   \n",
       "2  9c84f3117d821977a8570f9f6c335fc5     12601.0           0.00   208   \n",
       "3  050ad488d73415f8f74f255d9cd48ef9     26887.0           0.00  2008   \n",
       "4  21354d33d13f120a44d7a839c79ffc95     10684.0           0.00  2008   \n",
       "\n",
       "  registration_date  year  age_veh  segment_A  ...  segment_C  \\\n",
       "0        2016-01-21  2016        4          0  ...          1   \n",
       "1        2017-06-19  2017        3          0  ...          1   \n",
       "2        2016-05-02  2016        4          0  ...          0   \n",
       "3        2016-02-22  2016        4          0  ...          0   \n",
       "4        2016-12-16  2016        4          0  ...          0   \n",
       "\n",
       "   segment_C-TRANSPORT  segment_D  segment_D-TRANSPORT  segment_E-TRANSPORT  \\\n",
       "0                    0          0                    0                    0   \n",
       "1                    0          0                    0                    0   \n",
       "2                    0          0                    0                    0   \n",
       "3                    0          0                    0                    0   \n",
       "4                    0          0                    0                    0   \n",
       "\n",
       "   brand_CITROEN  brand_DS  brand_PEUGEOT  country_ES  country_FR  \n",
       "0              0         0              1           0           1  \n",
       "1              0         0              1           0           1  \n",
       "2              0         0              1           0           1  \n",
       "3              0         0              1           0           1  \n",
       "4              0         0              1           0           1  \n",
       "\n",
       "[5 rows x 21 columns]"
      ]
     },
     "execution_count": 162,
     "metadata": {},
     "output_type": "execute_result"
    }
   ],
   "source": [
    "X.head()"
   ]
  },
  {
   "cell_type": "code",
   "execution_count": null,
   "metadata": {},
   "outputs": [],
   "source": []
  },
  {
   "cell_type": "markdown",
   "metadata": {},
   "source": [
    "Mettre en place un modèle de machine learning"
   ]
  },
  {
   "cell_type": "code",
   "execution_count": 163,
   "metadata": {},
   "outputs": [],
   "source": [
    "import myhelpers.modelisation as hm"
   ]
  },
  {
   "cell_type": "code",
   "execution_count": 164,
   "metadata": {},
   "outputs": [],
   "source": [
    "X = X[['mileage_km', 'year', 'age_veh']]"
   ]
  },
  {
   "cell_type": "code",
   "execution_count": 165,
   "metadata": {},
   "outputs": [
    {
     "name": "stderr",
     "output_type": "stream",
     "text": [
      "d:\\python\\python36-32\\lib\\site-packages\\sklearn\\ensemble\\forest.py:246: FutureWarning: The default value of n_estimators will change from 10 in version 0.20 to 100 in 0.22.\n",
      "  \"10 in version 0.20 to 100 in 0.22.\", FutureWarning)\n"
     ]
    }
   ],
   "source": [
    "model = hm.rndForrestModel(X, target)"
   ]
  },
  {
   "cell_type": "code",
   "execution_count": 168,
   "metadata": {},
   "outputs": [
    {
     "data": {
      "text/plain": [
       "0.6985332539402851"
      ]
     },
     "execution_count": 168,
     "metadata": {},
     "output_type": "execute_result"
    }
   ],
   "source": [
    "model['score_test']"
   ]
  },
  {
   "cell_type": "code",
   "execution_count": 174,
   "metadata": {},
   "outputs": [
    {
     "name": "stderr",
     "output_type": "stream",
     "text": [
      "d:\\python\\python36-32\\lib\\site-packages\\sklearn\\ensemble\\forest.py:246: FutureWarning: The default value of n_estimators will change from 10 in version 0.20 to 100 in 0.22.\n",
      "  \"10 in version 0.20 to 100 in 0.22.\", FutureWarning)\n"
     ]
    },
    {
     "data": {
      "text/plain": [
       "0.7045788725377016"
      ]
     },
     "execution_count": 174,
     "metadata": {},
     "output_type": "execute_result"
    }
   ],
   "source": [
    "X = data.copy()\n",
    "X = X[['mileage_km', 'year', 'age_veh', 'country', 'segment']]\n",
    "X = prepro.addDummies(X, 'country')\n",
    "X = prepro.addDummies(X, 'segment')\n",
    "model = hm.rndForrestModel(X, target)\n",
    "model['score_test']"
   ]
  },
  {
   "cell_type": "code",
   "execution_count": 172,
   "metadata": {},
   "outputs": [
    {
     "name": "stderr",
     "output_type": "stream",
     "text": [
      "d:\\python\\python36-32\\lib\\site-packages\\sklearn\\ensemble\\forest.py:246: FutureWarning: The default value of n_estimators will change from 10 in version 0.20 to 100 in 0.22.\n",
      "  \"10 in version 0.20 to 100 in 0.22.\", FutureWarning)\n"
     ]
    },
    {
     "data": {
      "text/plain": [
       "0.7045849485362919"
      ]
     },
     "execution_count": 172,
     "metadata": {},
     "output_type": "execute_result"
    }
   ],
   "source": [
    "X = data.copy()\n",
    "X = X[['mileage_km', 'year', 'client_amount', 'brand']]\n",
    "X = prepro.addDummies(X, 'brand')\n",
    "model = hm.rndForrestModel(X, target)\n",
    "model['score_test']"
   ]
  },
  {
   "cell_type": "code",
   "execution_count": 175,
   "metadata": {},
   "outputs": [
    {
     "name": "stderr",
     "output_type": "stream",
     "text": [
      "d:\\python\\python36-32\\lib\\site-packages\\sklearn\\ensemble\\forest.py:246: FutureWarning: The default value of n_estimators will change from 10 in version 0.20 to 100 in 0.22.\n",
      "  \"10 in version 0.20 to 100 in 0.22.\", FutureWarning)\n"
     ]
    },
    {
     "data": {
      "text/plain": [
       "0.6988674338627553"
      ]
     },
     "execution_count": 175,
     "metadata": {},
     "output_type": "execute_result"
    }
   ],
   "source": [
    "X = data.copy()\n",
    "X = X[['mileage_km', 'year', 'age_veh', 'country']]\n",
    "X = prepro.addDummies(X, 'country')\n",
    "model = hm.rndForrestModel(X, target)\n",
    "model['score_test']"
   ]
  },
  {
   "cell_type": "code",
   "execution_count": 177,
   "metadata": {},
   "outputs": [
    {
     "name": "stderr",
     "output_type": "stream",
     "text": [
      "d:\\python\\python36-32\\lib\\site-packages\\sklearn\\ensemble\\forest.py:246: FutureWarning: The default value of n_estimators will change from 10 in version 0.20 to 100 in 0.22.\n",
      "  \"10 in version 0.20 to 100 in 0.22.\", FutureWarning)\n"
     ]
    },
    {
     "data": {
      "text/plain": [
       "0.7081454837102478"
      ]
     },
     "execution_count": 177,
     "metadata": {},
     "output_type": "execute_result"
    }
   ],
   "source": [
    "X = data.copy()\n",
    "X = X[['mileage_km', 'year', 'age_veh', 'country', 'segment', 'client_amount', 'brand']]\n",
    "X = prepro.addDummies(X, 'country')\n",
    "X = prepro.addDummies(X, 'segment')\n",
    "X = prepro.addDummies(X, 'brand')\n",
    "model = hm.rndForrestModel(X, target)\n",
    "model['score_test']"
   ]
  },
  {
   "cell_type": "code",
   "execution_count": null,
   "metadata": {},
   "outputs": [],
   "source": []
  },
  {
   "cell_type": "code",
   "execution_count": 178,
   "metadata": {},
   "outputs": [
    {
     "name": "stderr",
     "output_type": "stream",
     "text": [
      "d:\\python\\python36-32\\lib\\site-packages\\sklearn\\linear_model\\logistic.py:433: FutureWarning: Default solver will be changed to 'lbfgs' in 0.22. Specify a solver to silence this warning.\n",
      "  FutureWarning)\n",
      "d:\\python\\python36-32\\lib\\site-packages\\sklearn\\svm\\base.py:931: ConvergenceWarning: Liblinear failed to converge, increase the number of iterations.\n",
      "  \"the number of iterations.\", ConvergenceWarning)\n",
      "d:\\python\\python36-32\\lib\\site-packages\\sklearn\\metrics\\classification.py:1143: UndefinedMetricWarning: Precision and F-score are ill-defined and being set to 0.0 in labels with no predicted samples.\n",
      "  'precision', 'predicted', average, warn_for)\n"
     ]
    },
    {
     "data": {
      "text/plain": [
       "0.6233306193872963"
      ]
     },
     "execution_count": 178,
     "metadata": {},
     "output_type": "execute_result"
    }
   ],
   "source": [
    "X = data.copy()\n",
    "X = X[['mileage_km', 'year', 'age_veh', 'country', 'segment', 'client_amount', 'brand']]\n",
    "X = prepro.addDummies(X, 'country')\n",
    "X = prepro.addDummies(X, 'segment')\n",
    "X = prepro.addDummies(X, 'brand')\n",
    "model = hm.get_model_RegLog(X, target)\n",
    "model['score_test']"
   ]
  },
  {
   "cell_type": "code",
   "execution_count": 179,
   "metadata": {},
   "outputs": [
    {
     "name": "stderr",
     "output_type": "stream",
     "text": [
      "d:\\python\\python36-32\\lib\\site-packages\\sklearn\\linear_model\\logistic.py:433: FutureWarning: Default solver will be changed to 'lbfgs' in 0.22. Specify a solver to silence this warning.\n",
      "  FutureWarning)\n",
      "d:\\python\\python36-32\\lib\\site-packages\\sklearn\\svm\\base.py:931: ConvergenceWarning: Liblinear failed to converge, increase the number of iterations.\n",
      "  \"the number of iterations.\", ConvergenceWarning)\n",
      "d:\\python\\python36-32\\lib\\site-packages\\sklearn\\metrics\\classification.py:1143: UndefinedMetricWarning: Precision and F-score are ill-defined and being set to 0.0 in labels with no predicted samples.\n",
      "  'precision', 'predicted', average, warn_for)\n"
     ]
    },
    {
     "data": {
      "text/plain": [
       "0.6233306193872963"
      ]
     },
     "execution_count": 179,
     "metadata": {},
     "output_type": "execute_result"
    }
   ],
   "source": [
    "X = data.copy()\n",
    "X = X[['mileage_km', 'year', 'age_veh', 'segment', 'client_amount']]\n",
    "X = prepro.addDummies(X, 'segment')\n",
    "model = hm.get_model_RegLog(X, target)\n",
    "model['score_test']"
   ]
  },
  {
   "cell_type": "markdown",
   "metadata": {},
   "source": [
    "----"
   ]
  },
  {
   "cell_type": "markdown",
   "metadata": {},
   "source": [
    "Pour le feature engineerin on a ajouté l'age du vehicule\n",
    "et des 'dummies' de quelques features avant de les faire passer au model"
   ]
  },
  {
   "cell_type": "markdown",
   "metadata": {},
   "source": [
    "Le meilleur modele est le random forrest ['mileage_km', 'year', 'age_veh', 'country', 'segment', 'client_amount', 'brand'] avec un score de 70.81%"
   ]
  },
  {
   "cell_type": "markdown",
   "metadata": {},
   "source": [
    "La metrique adopté est la precision parceque c'est un probleme de classification"
   ]
  },
  {
   "cell_type": "markdown",
   "metadata": {},
   "source": [
    "Pour améliorer les résultats on peut changer les parametres du modele ou bien choisir d'autre modeles plus adaptés\n",
    "On peut aussi faire un GridSearch pour avoir les meilleurs parametres"
   ]
  },
  {
   "cell_type": "markdown",
   "metadata": {},
   "source": [
    "Pour mieux expliquer le churn on pourrait ajouter la qualité de service de la concession, si le vehicule est de premiere main ou non, etc"
   ]
  },
  {
   "cell_type": "markdown",
   "metadata": {},
   "source": [
    "Cela depend mais on pourrait, l'integrer a une API en Django ou Flask, le mettre dans un contenaire(Docker) et le deployer dans le cloud(AWS, Azure, GC,...)"
   ]
  }
 ],
 "metadata": {
  "kernelspec": {
   "display_name": "Python 3",
   "language": "python",
   "name": "python3"
  },
  "language_info": {
   "codemirror_mode": {
    "name": "ipython",
    "version": 3
   },
   "file_extension": ".py",
   "mimetype": "text/x-python",
   "name": "python",
   "nbconvert_exporter": "python",
   "pygments_lexer": "ipython3",
   "version": "3.6.1"
  }
 },
 "nbformat": 4,
 "nbformat_minor": 2
}
